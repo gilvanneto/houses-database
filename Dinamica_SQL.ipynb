{
 "cells": [
  {
   "cell_type": "code",
   "execution_count": null,
   "id": "d858134d",
   "metadata": {},
   "outputs": [],
   "source": [
    "import pymysql"
   ]
  },
  {
   "cell_type": "code",
   "execution_count": null,
   "id": "2e180914",
   "metadata": {},
   "outputs": [],
   "source": [
    "db = pymysql.connect(host='database-2.csqf4mraetjk.us-east-1.rds.amazonaws.com',user='admin',password='admin123')"
   ]
  },
  {
   "cell_type": "code",
   "execution_count": null,
   "id": "9f422611",
   "metadata": {},
   "outputs": [],
   "source": [
    "cursor = db.cursor()"
   ]
  },
  {
   "cell_type": "code",
   "execution_count": null,
   "id": "20e385e5",
   "metadata": {},
   "outputs": [],
   "source": [
    "cursor.execute(\"select version()\")"
   ]
  },
  {
   "cell_type": "code",
   "execution_count": null,
   "id": "d676184b",
   "metadata": {},
   "outputs": [],
   "source": [
    "sql = '''use Iris'''\n",
    "cursor.execute(sql)"
   ]
  },
  {
   "cell_type": "code",
   "execution_count": null,
   "id": "e04fc6e8",
   "metadata": {},
   "outputs": [],
   "source": [
    "cursor.connection.commit()"
   ]
  },
  {
   "cell_type": "code",
   "execution_count": null,
   "id": "8a957e92",
   "metadata": {},
   "outputs": [],
   "source": [
    "sql = '''show tables from Iris'''\n",
    "cursor.execute(sql)\n",
    "cursor.fetchall()"
   ]
  },
  {
   "cell_type": "code",
   "execution_count": null,
   "id": "629db939",
   "metadata": {},
   "outputs": [],
   "source": [
    "sql = '''CREATE PROCEDURE `InsertNewElement`(SL FLOAT,SW FLOAT,PL FLOAT,PW FLOAT,Spci VARCHAR(50))\n",
    "BEGIN\n",
    "\tDECLARE SpeciesIdentify VARCHAR(50);\n",
    "    DECLARE CategoriaIdentify INT;\n",
    "    DECLARE MaxCategory INT;\n",
    "    \n",
    "    SET SpeciesIdentify := (SELECT Species FROM IrisMeasures WHERE Species = Spci LIMIT 1);\n",
    "    SET MaxCategory := (SELECT MAX(Categoria) FROM SpeciesCategory);\n",
    "    SET CategoriaIdentify := (SELECT Categoria FROM SpeciesCategory WHERE Species = Spci LIMIT 1);\n",
    "    \n",
    "    IF (SpeciesIdentify IS NOT NULL) THEN\n",
    "\t\tINSERT INTO SpeciesCategory\n",
    "\t\t(Species,Categoria)\n",
    "\t\tVALUES\n",
    "\t\t\t(Spci,CategoriaIdentify);\n",
    "        INSERT INTO IrisMeasures\n",
    "\t\t(SepalLengthCm,SepalWidthCm,PetalLengthCm,PetalWidthCm,Species)\n",
    "\t\tVALUES\n",
    "\t\t\t(SL,SW,PL,PW,Spci);\n",
    "\tELSE\n",
    "\t\tINSERT INTO SpeciesCategory\n",
    "\t\t(Species,Categoria)\n",
    "\t\tVALUES\n",
    "\t\t\t(Spci,MaxCategory+10);\n",
    "\t\tINSERT INTO IrisMeasures\n",
    "\t\t(SepalLengthCm,SepalWidthCm,PetalLengthCm,PetalWidthCm,Species)\n",
    "\t\tVALUES\n",
    "\t\t\t(SL,SW,PL,PW,Spci);\n",
    "    END IF;\n",
    "    \n",
    "END'''\n",
    "cursor.execute(sql)\n",
    "db.commit()"
   ]
  },
  {
   "cell_type": "code",
   "execution_count": null,
   "id": "22a1b22b",
   "metadata": {},
   "outputs": [],
   "source": [
    "sql = '''call InsertNewElement(5.0,3.0,1.0,0.0,'Iris-virginica');'''\n",
    "cursor.execute(sql)\n",
    "db.commit()"
   ]
  },
  {
   "cell_type": "code",
   "execution_count": null,
   "id": "1bcbe123",
   "metadata": {},
   "outputs": [],
   "source": [
    "sql = '''call InsertNewElement(5.0,3.0,1.0,0.0,'Iris-procedure');'''\n",
    "cursor.execute(sql)\n",
    "db.commit()"
   ]
  },
  {
   "cell_type": "code",
   "execution_count": null,
   "id": "ea9b542b",
   "metadata": {},
   "outputs": [],
   "source": [
    "sql = '''select * from IrisMeasures'''\n",
    "cursor.execute(sql)\n",
    "cursor.fetchall()"
   ]
  },
  {
   "cell_type": "code",
   "execution_count": null,
   "id": "d1779832",
   "metadata": {},
   "outputs": [],
   "source": [
    "sql = '''select * from SpeciesCategory'''\n",
    "cursor.execute(sql)\n",
    "cursor.fetchall()"
   ]
  },
  {
   "cell_type": "code",
   "execution_count": null,
   "id": "259974b2",
   "metadata": {},
   "outputs": [],
   "source": []
  }
 ],
 "metadata": {
  "kernelspec": {
   "display_name": "Python 3 (ipykernel)",
   "language": "python",
   "name": "python3"
  },
  "language_info": {
   "codemirror_mode": {
    "name": "ipython",
    "version": 3
   },
   "file_extension": ".py",
   "mimetype": "text/x-python",
   "name": "python",
   "nbconvert_exporter": "python",
   "pygments_lexer": "ipython3",
   "version": "3.9.12"
  }
 },
 "nbformat": 4,
 "nbformat_minor": 5
}
