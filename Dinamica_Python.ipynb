{
 "cells": [
  {
   "cell_type": "code",
   "execution_count": null,
   "id": "131a0b8f",
   "metadata": {},
   "outputs": [],
   "source": [
    "import pandas as pd\n",
    "import numpy as np"
   ]
  },
  {
   "cell_type": "code",
   "execution_count": null,
   "id": "edc6c675",
   "metadata": {},
   "outputs": [],
   "source": [
    "#Importando e tratando os dados\n",
    "lista_colunash1h2 = ['bairro',\n",
    "                   'consumo_agua',\n",
    "                   'consumo_luz',\n",
    "                   'quartos',\n",
    "                   'banheiros',\n",
    "                   'sanemaneto_basico']\n",
    "houses1 = pd.read_excel(\"/Users/gilvanneto/Downloads/Dinamica DB Houses.xlsx\", sheet_name = \"Houses 1\", header = 1, usecols = lista_colunash1h2)\n",
    "houses2 = pd.read_excel(\"/Users/gilvanneto/Downloads/Dinamica DB Houses.xlsx\", sheet_name = \"Houses 2\", header = 1, usecols = lista_colunash1h2)"
   ]
  },
  {
   "cell_type": "code",
   "execution_count": null,
   "id": "f486ac12",
   "metadata": {},
   "outputs": [],
   "source": [
    "#renomeando a coluna saneamento_básico de Houses1\n",
    "houses1 = houses1.rename(columns={'sanemaneto_basico': 'saneamento_basico'})"
   ]
  },
  {
   "cell_type": "code",
   "execution_count": null,
   "id": "35619533",
   "metadata": {},
   "outputs": [],
   "source": [
    "#renomeando a coluna saneamento_básico de Houses2\n",
    "houses2 = houses2.rename(columns={'sanemaneto_basico': 'saneamento_basico'})"
   ]
  },
  {
   "cell_type": "code",
   "execution_count": null,
   "id": "2841b869",
   "metadata": {},
   "outputs": [],
   "source": [
    "#Arredondando e transformando em inteiro as colunas de Houses1, conforme as tabelas enviadas\n",
    "\n",
    "houses1['consumo_agua'] = (round(houses1['consumo_agua'])).values.astype(np.int64)\n",
    "houses1['consumo_luz'] = (round(houses1['consumo_luz'])).values.astype(np.int64)\n",
    "houses1['quartos'] = (round(houses1['quartos'])).values.astype(np.int64)\n",
    "houses1['banheiros'] = (round(houses1['banheiros'])).values.astype(np.int64)"
   ]
  },
  {
   "cell_type": "code",
   "execution_count": null,
   "id": "c0596529",
   "metadata": {},
   "outputs": [],
   "source": [
    "#Arredondando e transformando em inteiro as colunas de Houses1, conforme as tabelas enviadas\n",
    "\n",
    "houses2['consumo_agua'] = (round(houses2['consumo_agua'])).values.astype(np.int64)\n",
    "houses2['consumo_luz'] = (round(houses2['consumo_luz'])).values.astype(np.int64)\n",
    "houses2['quartos'] = (round(houses2['quartos'])).values.astype(np.int64)\n",
    "houses2['banheiros'] = (round(houses2['banheiros'])).values.astype(np.int64)"
   ]
  },
  {
   "cell_type": "code",
   "execution_count": null,
   "id": "7bb1fb20",
   "metadata": {},
   "outputs": [],
   "source": [
    "houses1"
   ]
  },
  {
   "cell_type": "code",
   "execution_count": null,
   "id": "70781e40",
   "metadata": {},
   "outputs": [],
   "source": [
    "houses2"
   ]
  },
  {
   "cell_type": "code",
   "execution_count": null,
   "id": "11dfcc09",
   "metadata": {},
   "outputs": [],
   "source": [
    "#pd.concat() - Concatenar as duas planilhas (Houses 1 e Houses 2) uma embaixo da outra  \n",
    "\n",
    "pd.concat([houses1,houses2])"
   ]
  },
  {
   "cell_type": "code",
   "execution_count": null,
   "id": "e14529ec",
   "metadata": {},
   "outputs": [],
   "source": [
    "#pd.concat() - Concatenar as duas planilhas (Houses 1 e Houses 2) concatenar uma ao lado da outra \n",
    "pd.concat([houses1,houses2], axis = 1)"
   ]
  },
  {
   "cell_type": "code",
   "execution_count": null,
   "id": "514fcc1f",
   "metadata": {},
   "outputs": [],
   "source": [
    "#pd.groupby() - Agrupar a planilha Houses 1 pelo \"bairro\", realizando as operações: Contar o número de casas agrupadas,Soma de “consumo_agua”,Média de “quartos”,Contagem de valores “sim” no “saneamento_basico”\n",
    "numcasas=houses1.groupby(\"bairro\")[\"bairro\"].count()\n",
    "consumo=houses1.groupby(\"bairro\")[\"consumo_agua\"].sum()\n",
    "mediaquartos=houses1.groupby(\"bairro\")[\"quartos\"].mean()\n",
    "saneamento=houses1.groupby(\"saneamento_basico\")[\"saneamento_basico\"].count()\n",
    "dbresult = pd.concat([numcasas,consumo,mediaquartos,saneamento], axis = 1)\n",
    "dbresult = dbresult.fillna('-')\n",
    "dbresult.rename(columns={'bairro': 'bairro(Contagem)','consumo_agua': 'consumo_agua(Média)','quartos': 'quartos(Média)','sanemaneto_basico': 'sanemaneto_basico(Contagem)'})\n"
   ]
  },
  {
   "cell_type": "code",
   "execution_count": null,
   "id": "b9cfe01e",
   "metadata": {},
   "outputs": [],
   "source": [
    "#pd.merge()-Mesclar as planilhas Houses 1 e Houses 3 pelo “bairro” e “quartos”, mantendo a planilha Houses 1 com mesmo número de linhas, mas adicionando a coluna “preco”.\n",
    "\n",
    "lista_colunash3 = ['bairro',\n",
    "                   'quartos',\n",
    "                   'preco']\n",
    "houses3 = pd.read_excel(\"/Users/gilvanneto/Downloads/Dinamica DB Houses.xlsx\", sheet_name = \"Houses 3\", header = 1, usecols = lista_colunash3)\n",
    "houses3['preco'] = (round(houses3['preco'],2))"
   ]
  },
  {
   "cell_type": "code",
   "execution_count": null,
   "id": "bc422408",
   "metadata": {},
   "outputs": [],
   "source": [
    "dbmerge =pd.merge(houses1,houses3, how = 'left', on=['bairro','quartos'])\n",
    "dbmerge = dbmerge.fillna('-')\n",
    "dbmerge"
   ]
  },
  {
   "cell_type": "code",
   "execution_count": null,
   "id": "8e44711e",
   "metadata": {},
   "outputs": [],
   "source": [
    "#pd.pivot_table() - Agrupar por “bairro”, transformar os valores da coluna “saneamento_basico” em colunas e calcular a média do consumo de água.\n",
    "pd.pivot_table(houses1, values=['consumo_agua'], index=['bairro','saneamento_basico'],\n",
    "                    aggfunc={'consumo_agua': np.mean})"
   ]
  },
  {
   "cell_type": "code",
   "execution_count": null,
   "id": "0b452514",
   "metadata": {},
   "outputs": [],
   "source": []
  }
 ],
 "metadata": {
  "kernelspec": {
   "display_name": "Python 3 (ipykernel)",
   "language": "python",
   "name": "python3"
  },
  "language_info": {
   "codemirror_mode": {
    "name": "ipython",
    "version": 3
   },
   "file_extension": ".py",
   "mimetype": "text/x-python",
   "name": "python",
   "nbconvert_exporter": "python",
   "pygments_lexer": "ipython3",
   "version": "3.9.12"
  }
 },
 "nbformat": 4,
 "nbformat_minor": 5
}
